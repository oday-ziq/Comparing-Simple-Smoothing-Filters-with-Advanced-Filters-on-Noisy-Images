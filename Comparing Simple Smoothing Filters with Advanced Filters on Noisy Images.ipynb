{
  "nbformat": 4,
  "nbformat_minor": 0,
  "metadata": {
    "colab": {
      "provenance": []
    },
    "kernelspec": {
      "name": "python3",
      "display_name": "Python 3"
    },
    "language_info": {
      "name": "python"
    }
  },
  "cells": [
    {
      "cell_type": "markdown",
      "source": [
        "oday ziq - 1201168"
      ],
      "metadata": {
        "id": "Xx1s4uCpm_V0"
      }
    },
    {
      "cell_type": "markdown",
      "source": [
        "#**Introduction**"
      ],
      "metadata": {
        "id": "kbnWB4eTX8Cz"
      }
    },
    {
      "cell_type": "markdown",
      "source": [
        "Image processing is a critical component in various fields such as computer vision, medical imaging, and digital photography. One of the main challenges in this domain is noise removal, which must be accomplished without compromising key image features like edges and textures. To address this, a range of noise reduction filters has been developed, each offering unique advantages and trade-offs. This assignment focuses on comparing two types of filtering approaches—simple and advanced—to evaluate their strengths, limitations, and practical use cases. The filters' performance is assessed using metrics such as Mean Squared Error (MSE), Peak Signal-to-Noise Ratio (PSNR), edge preservation, and processing time.\n",
        "\n"
      ],
      "metadata": {
        "id": "bTzgvxqPYAJa"
      }
    },
    {
      "cell_type": "markdown",
      "source": [
        "Simple Filters:\n",
        "Simple filters are foundational methods that reduce noise by applying straightforward operations on the pixel values of an image. These filters are computationally efficient and easy to implement, making them suitable for real-time or resource-constrained applications. Common examples include:\n",
        "\n",
        "Box Filter (Mean Filter): Averages the pixel values in a neighborhood to smooth the image but may blur edges.\n",
        "Gaussian Filter: Uses a Gaussian kernel to weigh nearby pixel values, providing smoother results while moderately preserving edges.\n",
        "Median Filter: Replaces each pixel with the median value of its neighborhood, effectively removing salt-and-pepper noise while retaining edges.\n",
        "\n",
        "Advanced Filters:\n",
        "Advanced filters employ more sophisticated techniques to balance noise removal with feature preservation. These filters often adapt to local image characteristics, making them more effective at handling complex noise patterns. Examples include:\n",
        "\n",
        "Bilateral Filter: Reduces noise while preserving edges by considering both spatial and intensity differences within a local region.\n",
        "Non-Local Means Filter: Averages pixel values based on similarity across the entire image, achieving superior noise reduction with minimal loss of detail.\n",
        "Wavelet Transform Filter: Processes the image in the frequency domain, allowing selective noise reduction at different scales to retain fine details."
      ],
      "metadata": {
        "id": "itK4AFFqs8Ha"
      }
    },
    {
      "cell_type": "code",
      "source": [
        "from PIL import Image\n",
        "import matplotlib.pyplot as plt\n",
        "\n",
        "pantherImage = Image.open('./image1.jpg').convert('RGB')\n",
        "treeImage = Image.open('./image2.jpg').convert('RGB')\n",
        "manImage = Image.open('./image3.jpg').convert('RGB')\n",
        "\n",
        "loaded_images = [pantherImage, treeImage, manImage]\n",
        "\n",
        "plt.figure(figsize=(15, 10))\n",
        "for index, image in enumerate(loaded_images):\n",
        "    plt.subplot(1, len(loaded_images), index + 1)\n",
        "    plt.imshow(image)\n",
        "    plt.axis('off')\n",
        "plt.tight_layout()\n",
        "plt.show()\n"
      ],
      "metadata": {
        "id": "PJVRf6hzCkmu"
      },
      "execution_count": null,
      "outputs": []
    },
    {
      "cell_type": "markdown",
      "source": [
        "The code loads and displays three grayscale images side by side for visual comparison, establishing a baseline for later filtering experiments. The chosen images vary in texture and complexity, making them suitable for analyzing edge preservation and noise reduction. This setup ensures clear visual references for evaluating filter performance in subsequent steps."
      ],
      "metadata": {
        "id": "wv5P1flLYsYP"
      }
    },
    {
      "cell_type": "code",
      "source": [
        "def scale_image(image, target_width=700):\n",
        "\n",
        "    original_width, original_height = image.size\n",
        "\n",
        "    scale_factor = target_width / original_width\n",
        "    scaled_width = target_width\n",
        "    scaled_height = int(original_height * scale_factor)\n",
        "\n",
        "    return image.resize((scaled_width, scaled_height), Image.LANCZOS)\n",
        "\n",
        "# Resize the images\n",
        "scaled_panther_image = scale_image(pantherImage)\n",
        "scaled_tree_image = scale_image(treeImage)\n",
        "scaled_man_image = scale_image(manImage)\n",
        "\n",
        "scaled_images = [scaled_panther_image, scaled_tree_image, scaled_man_image]"
      ],
      "metadata": {
        "id": "hO1FG9P8I4oR"
      },
      "execution_count": null,
      "outputs": []
    },
    {
      "cell_type": "markdown",
      "source": [
        "The resized images maintain their aspect ratio, ensuring no distortion and preserving content integrity. Uniform dimensions standardize processing, enabling fair comparisons across filters and noise levels. This preprocessing ensures clarity and consistency for reliable performance analysis."
      ],
      "metadata": {
        "id": "_7vh_YfaZdjw"
      }
    },
    {
      "cell_type": "markdown",
      "source": [
        "## Edge Detection using Canny for the original image"
      ],
      "metadata": {
        "id": "KTITxVp6hZiK"
      }
    },
    {
      "cell_type": "code",
      "source": [
        "import cv2\n",
        "import numpy as np\n",
        "import matplotlib.pyplot as plt\n",
        "from PIL import Image\n",
        "\n",
        "def apply_canny_and_overlay(input_image, lower_threshold=100, upper_threshold=200):\n",
        "\n",
        "    if isinstance(input_image, Image.Image):\n",
        "        input_image = np.array(input_image)\n",
        "\n",
        "    if len(input_image.shape) == 3:\n",
        "        grayscale_image = cv2.cvtColor(input_image, cv2.COLOR_RGB2GRAY)\n",
        "    else:\n",
        "        grayscale_image = input_image\n",
        "\n",
        "    edge_map = cv2.Canny(grayscale_image, lower_threshold, upper_threshold)\n",
        "\n",
        "    overlaid_image = cv2.cvtColor(grayscale_image, cv2.COLOR_GRAY2BGR)\n",
        "\n",
        "    overlaid_image[edge_map > 0] = [255, 0, 0]\n",
        "\n",
        "    return overlaid_image, edge_map\n",
        "\n",
        "image_paths = ['/content/image1.jpg', '/content/image2.jpg', '/content/image3.jpg']\n",
        "\n",
        "images = [Image.open(image_path).convert('L') for image_path in image_paths]\n",
        "\n",
        "for index, img in enumerate(images):\n",
        "    result_overlay, detected_edges = apply_canny_and_overlay(img, lower_threshold=100, upper_threshold=200)\n",
        "\n",
        "    plt.figure(figsize=(15, 5))\n",
        "\n",
        "    plt.subplot(1, 3, 1)\n",
        "    plt.imshow(img, cmap='gray')\n",
        "    plt.title(f\"Original Image {index + 1}\")\n",
        "    plt.axis('off')\n",
        "\n",
        "    plt.subplot(1, 3, 2)\n",
        "    plt.imshow(detected_edges, cmap='gray')\n",
        "    plt.title(\"Canny Edge Detection\")\n",
        "    plt.axis('off')\n",
        "\n",
        "    plt.subplot(1, 3, 3)\n",
        "    plt.imshow(result_overlay)\n",
        "    plt.title(\"Edges Overlaid on Original\")\n",
        "    plt.axis('off')\n",
        "\n",
        "    plt.tight_layout()\n",
        "    plt.show()\n"
      ],
      "metadata": {
        "id": "wmsK79SiNudj"
      },
      "execution_count": null,
      "outputs": []
    },
    {
      "cell_type": "markdown",
      "source": [
        "This code demonstrates edge detection using the Canny algorithm, followed by overlaying the detected edges on the original grayscale images. The results effectively highlight edges with red contours, providing a clear visual distinction of boundaries and sharp transitions. The technique is particularly useful for evaluating edge preservation in noisy and processed images, forming a baseline for assessing filter performance."
      ],
      "metadata": {
        "id": "BDeMLkQGbzVZ"
      }
    },
    {
      "cell_type": "markdown",
      "source": [
        "# **Mean Squared Error (MSE)**\n",
        "Mean Squared Error (MSE) is a widely used metric to assess the effectiveness of image restoration and noise reduction methods. It measures the average squared difference between corresponding pixel values in the original image and the processed image. The MSE value reflects how closely the processed image resembles the noise-free original.\n",
        "\n",
        "### **Highlights**:\n",
        "- Lower MSE: Suggests better noise reduction and closer similarity to the original image.\n",
        "- Higher MSE: Indicates greater discrepancies between the processed and original images, implying poorer performance.\n",
        "- Zero MSE: Denotes a perfect match between the processed image and the original.\n",
        "\n",
        "- Measures pixel-wise differences directly.\n",
        "\n",
        "### **Limitations**:\n",
        "- Like MSE, it is insensitive to human perception and cannot evaluate structural differences.\n",
        "\n",
        "---\n",
        "\n",
        "# **Drawbacks**\n",
        "\n",
        "- Ignores perceptual differences, such as structural or texture-related variations.\n",
        "- Sensitive to outliers, amplifying large pixel-value differences even if the visual resemblance is high.\n",
        "\n",
        "# **Peak Signal-to-Noise Ratio (PSNR)**\n",
        "Peak Signal-to-Noise Ratio (PSNR) is a logarithmic scale metric derived from MSE. It quantifies the ratio of the maximum possible signal (pixel intensity) to the noise introduced by processing. Expressed in decibels (dB), PSNR offers a clearer and more interpretable assessment of image quality.\n",
        "\n",
        "### **Formula**:\n",
        "$$\n",
        "PSNR = 10 \\cdot \\log_{10} \\left(\\frac{{L^2}}{{MSE}}\\right)\n",
        "$$\n",
        "\n",
        "Where:\n",
        "- \\(L\\): Maximum possible pixel intensity (e.g., \\(255\\) for an 8-bit image).\n",
        "- \\(MSE\\): Mean Squared Error between the original and processed images.\n",
        "\n",
        "# **Connecting MSE and PSNR**\n",
        "MSE and PSNR are inversely related:\n",
        "- A lower MSE results in a higher PSNR, indicating superior image quality.\n",
        "- If MSE=0, PSNR becomes infinite, representing a perfect match.\n",
        "\n",
        "While MSE provides an absolute measure of pixel differences, PSNR transforms these differences into a logarithmic scale, making the relationship easier to interpret. Together, they offer complementary perspectives on image quality assessment.\n"
      ],
      "metadata": {
        "id": "x3XnYFEfhgfj"
      }
    },
    {
      "cell_type": "markdown",
      "source": [
        "# Simple Filters"
      ],
      "metadata": {
        "id": "DqWS9poYjQSX"
      }
    },
    {
      "cell_type": "markdown",
      "source": [
        "## Gaussian Noise Images"
      ],
      "metadata": {
        "id": "VZm9EEREjU78"
      }
    },
    {
      "cell_type": "code",
      "source": [
        "from PIL import Image\n",
        "import numpy as np\n",
        "\n",
        "image_paths = ['/content/image1.jpg', '/content/image2.jpg', '/content/image3.jpg']\n",
        "\n",
        "images = [Image.open(path).convert(\"L\") for path in image_paths]\n",
        "\n",
        "image_titles = [\"Image 1\", \"Image 2\", \"Image 3\"]\n",
        "\n",
        "def add_gaussian_noise(image, mean=0, std_dev=25):\n",
        "    image_array = np.array(image)\n",
        "    noise = np.random.normal(mean, std_dev, image_array.shape)\n",
        "    noisy_image = np.clip(image_array + noise, 0, 255).astype(\"uint8\")\n",
        "    return Image.fromarray(noisy_image)\n",
        "\n",
        "def add_salt_pepper_noise(image, salt_prob=0.02, pepper_prob=0.02):\n",
        "    image_array = np.array(image)\n",
        "    noisy_image = image_array.copy()\n",
        "    total_pixels = image_array.size\n",
        "\n",
        "    salt_pixels = int(salt_prob * total_pixels)\n",
        "    coords = [np.random.randint(0, i - 1, salt_pixels) for i in image_array.shape]\n",
        "    noisy_image[tuple(coords)] = 255\n",
        "\n",
        "    pepper_pixels = int(pepper_prob * total_pixels)\n",
        "    coords = [np.random.randint(0, i - 1, pepper_pixels) for i in image_array.shape]\n",
        "    noisy_image[tuple(coords)] = 0\n",
        "\n",
        "    return Image.fromarray(noisy_image)\n",
        "\n",
        "noisy_images_gaussian = {\n",
        "    \"Low\": [add_gaussian_noise(img, std_dev=15) for img in images],\n",
        "    \"Medium\": [add_gaussian_noise(img, std_dev=25) for img in images],\n",
        "    \"High\": [add_gaussian_noise(img, std_dev=50) for img in images],\n",
        "}\n",
        "\n",
        "noisy_images_SandP = {\n",
        "    \"Low\": [add_salt_pepper_noise(img, salt_prob=0.01, pepper_prob=0.01) for img in images],\n",
        "    \"Medium\": [add_salt_pepper_noise(img, salt_prob=0.02, pepper_prob=0.02) for img in images],\n",
        "    \"High\": [add_salt_pepper_noise(img, salt_prob=0.05, pepper_prob=0.05) for img in images],\n",
        "}\n",
        "\n",
        "noisy_images_dict = {\"Gaussian\": noisy_images_gaussian, \"Salt-Pepper\": noisy_images_SandP}\n"
      ],
      "metadata": {
        "id": "zZm-f_eURWQn"
      },
      "execution_count": null,
      "outputs": []
    },
    {
      "cell_type": "code",
      "source": [
        "from PIL import Image\n",
        "import numpy as np\n",
        "import matplotlib.pyplot as plt\n",
        "from scipy.ndimage import uniform_filter, gaussian_filter, median_filter\n",
        "import cv2\n",
        "import time\n",
        "\n",
        "# Metrics calculation\n",
        "def mse(original, filtered):\n",
        "    return np.mean((original - filtered) ** 2)\n",
        "\n",
        "def psnr(original, filtered):\n",
        "    mse_value = mse(original, filtered)\n",
        "    if mse_value == 0:\n",
        "        return float('inf')\n",
        "    max_pixel = 255.0\n",
        "    return 20 * np.log10(max_pixel / np.sqrt(mse_value))\n",
        "\n",
        "# Filter implementations\n",
        "def apply_box_filter(image, kernel_size):\n",
        "    return uniform_filter(image, size=kernel_size)\n",
        "\n",
        "def apply_gaussian_filter(image, kernel_size):\n",
        "    sigma = kernel_size / 2\n",
        "    return gaussian_filter(image, sigma=sigma)\n",
        "\n",
        "def apply_median_filter(image, kernel_size):\n",
        "    return median_filter(image, size=kernel_size)\n",
        "\n",
        "def apply_canny_edge_detection(image, low_threshold=50, high_threshold=150):\n",
        "    image_array = np.array(image).astype(np.uint8)\n",
        "    edges = cv2.Canny(image_array, low_threshold, high_threshold)\n",
        "    return edges\n",
        "\n",
        "# Main processing function\n",
        "def process_images_with_filters_and_canny(noisy_images_dict, original_images):\n",
        "    kernel_sizes = [3, 7, 9]\n",
        "    filters = {\n",
        "        \"Box Filter\": apply_box_filter,\n",
        "        \"Gaussian Filter\": apply_gaussian_filter,\n",
        "        \"Median Filter\": apply_median_filter,\n",
        "    }\n",
        "\n",
        "    results = []\n",
        "\n",
        "    for noise_type, noise_levels in noisy_images_dict.items():\n",
        "        for noise_level, noisy_images in noise_levels.items():\n",
        "            for filter_name, filter_function in filters.items():\n",
        "                plt.figure(figsize=(20, 10))\n",
        "                for i, noisy_img in enumerate(noisy_images):\n",
        "                    noisy_array = np.array(noisy_img)\n",
        "                    original_array = np.array(original_images[i])\n",
        "\n",
        "                    for j, kernel_size in enumerate(kernel_sizes):\n",
        "                        # Apply filter with current kernel size\n",
        "                        start_time = time.time()\n",
        "                        filtered_image = filter_function(noisy_array, kernel_size)\n",
        "                        computation_time = time.time() - start_time\n",
        "\n",
        "                        # Compute metrics\n",
        "                        mse_value = mse(original_array, filtered_image)\n",
        "                        psnr_value = psnr(original_array, filtered_image)\n",
        "\n",
        "                        # Apply Canny Edge Detection on filtered image\n",
        "                        canny_edges = apply_canny_edge_detection(filtered_image)\n",
        "\n",
        "                        # Store results\n",
        "                        results.append({\n",
        "                            \"Image\": f\"Image {i+1}\",\n",
        "                            \"Noise Type\": noise_type,\n",
        "                            \"Noise Level\": noise_level,\n",
        "                            \"Filter\": filter_name,\n",
        "                            \"Kernel Size\": kernel_size,\n",
        "                            \"MSE\": mse_value,\n",
        "                            \"PSNR\": psnr_value,\n",
        "                            \"Computation Time\": computation_time,\n",
        "                        })\n",
        "\n",
        "                        # Plot filtered image\n",
        "                        plt.subplot(len(noisy_images), len(kernel_sizes) * 2, i * len(kernel_sizes) * 2 + j * 2 + 1)\n",
        "                        plt.imshow(filtered_image, cmap=\"gray\")\n",
        "                        plt.title(f\"Filtered ({filter_name}, k={kernel_size})\\nNoise Level: {noise_level}\")\n",
        "                        plt.axis(\"off\")\n",
        "\n",
        "                        # Plot Canny edges\n",
        "                        plt.subplot(len(noisy_images), len(kernel_sizes) * 2, i * len(kernel_sizes) * 2 + j * 2 + 2)\n",
        "                        plt.imshow(canny_edges, cmap=\"gray\")\n",
        "                        plt.title(f\"Canny Edges (k={kernel_size})\\nNoise Level: {noise_level}\")\n",
        "                        plt.axis(\"off\")\n",
        "\n",
        "                plt.tight_layout()\n",
        "                plt.show()\n",
        "\n",
        "    # Print results\n",
        "    print(\"\\nResults Summary:\")\n",
        "    for result in results:\n",
        "        print(\n",
        "            f\"Image: {result['Image']}, Noise Type: {result['Noise Type']}, \"\n",
        "            f\"Noise Level: {result['Noise Level']}, Filter: {result['Filter']}, \"\n",
        "            f\"Kernel Size: {result['Kernel Size']}, MSE: {result['MSE']:.2f}, \"\n",
        "            f\"PSNR: {result['PSNR']:.2f}, Computation Time: {result['Computation Time']:.4f} seconds\"\n",
        "        )\n",
        "\n",
        "    return results\n",
        "\n",
        "# Run the process\n",
        "results = process_images_with_filters_and_canny(noisy_images_dict, images)\n"
      ],
      "metadata": {
        "id": "MnSqkS0L0epD"
      },
      "execution_count": null,
      "outputs": []
    },
    {
      "cell_type": "markdown",
      "source": [
        "Explanation of the Code:\n",
        "The code processes grayscale images by applying various filters to remove noise and evaluate their performance. Gaussian and Salt-and-Pepper noise are added to the images, and three filters (Box Filter, Gaussian Filter, and Median Filter) are applied with kernel sizes 3, 7, and 9. Metrics such as Mean Squared Error (MSE), Peak Signal-to-Noise Ratio (PSNR), and computation time are computed to evaluate the denoising quality. Additionally, Canny Edge Detection is applied to filtered images to analyze edge preservation, and both the filtered outputs and edges are visualized for comparison. The results are printed in a structured format, showing the impact of filters, noise levels, and kernel sizes on image quality."
      ],
      "metadata": {
        "id": "Fy47yGEZb1It"
      }
    },
    {
      "cell_type": "markdown",
      "source": [
        "Discussion of the Results:\n",
        "The Box Filter, while computationally efficient, tends to blur edges and performs poorly for Salt-and-Pepper noise. The Gaussian Filter provides better edge preservation and works well for Gaussian noise, especially with smaller kernels, but struggles with outlier noise like Salt-and-Pepper. The Median Filter is the most effective for Salt-and-Pepper noise, achieving the highest PSNR and preserving edges, though it is computationally expensive for larger kernels. Larger kernel sizes generally smooth noise more effectively but reduce edge clarity, as seen in the Canny Edge outputs. For applications requiring edge preservation, the Gaussian or Median Filter with smaller kernels is recommended, while larger kernels are suited for stronger noise reduction at the cost of detail loss."
      ],
      "metadata": {
        "id": "wdrLXWOSdttm"
      }
    },
    {
      "cell_type": "markdown",
      "source": [
        "###Advanced filters"
      ],
      "metadata": {
        "id": "rT12IiGAVI-M"
      }
    },
    {
      "cell_type": "code",
      "source": [
        "import cv2\n",
        "import numpy as np\n",
        "import matplotlib.pyplot as plt\n",
        "from PIL import Image\n",
        "import time\n",
        "\n",
        "# Metrics calculation\n",
        "def mse(original, filtered):\n",
        "    return np.mean((original - filtered) ** 2)\n",
        "\n",
        "def psnr(original, filtered):\n",
        "    mse_value = mse(original, filtered)\n",
        "    if mse_value == 0:\n",
        "        return float('inf')\n",
        "    max_pixel = 255.0\n",
        "    return 20 * np.log10(max_pixel / np.sqrt(mse_value))\n",
        "\n",
        "# Advanced Filter implementations\n",
        "def adaptive_mean_filter(image, kernel_size):\n",
        "    image_array = np.array(image)\n",
        "    padded_image = np.pad(image_array, kernel_size // 2, mode='reflect')\n",
        "    filtered_image = np.zeros_like(image_array)\n",
        "\n",
        "    for i in range(image_array.shape[0]):\n",
        "        for j in range(image_array.shape[1]):\n",
        "            region = padded_image[i:i + kernel_size, j:j + kernel_size]\n",
        "            filtered_image[i, j] = np.mean(region)\n",
        "\n",
        "    return filtered_image\n",
        "\n",
        "def adaptive_median_filter(image, kernel_size):\n",
        "    image_array = np.array(image)\n",
        "    padded_image = np.pad(image_array, kernel_size // 2, mode='reflect')\n",
        "    filtered_image = np.zeros_like(image_array)\n",
        "\n",
        "    for i in range(image_array.shape[0]):\n",
        "        for j in range(image_array.shape[1]):\n",
        "            region = padded_image[i:i + kernel_size, j:j + kernel_size]\n",
        "            filtered_image[i, j] = np.median(region)\n",
        "\n",
        "    return filtered_image\n",
        "\n",
        "def bilateral_filter(image, kernel_size):\n",
        "    return cv2.bilateralFilter(np.array(image), kernel_size, sigmaColor=75, sigmaSpace=75)\n",
        "\n",
        "def apply_canny_edge_detection(image, low_threshold=50, high_threshold=150):\n",
        "    image_array = np.array(image).astype(np.uint8)\n",
        "    edges = cv2.Canny(image_array, low_threshold, high_threshold)\n",
        "    return edges\n",
        "\n",
        "# Main processing function\n",
        "def process_advanced_filters_and_canny(noisy_images_dict, original_images):\n",
        "    kernel_sizes = [3, 7, 9]\n",
        "    filters = {\n",
        "        \"Adaptive Mean Filter\": adaptive_mean_filter,\n",
        "        \"Adaptive Median Filter\": adaptive_median_filter,\n",
        "        \"Bilateral Filter\": bilateral_filter,\n",
        "    }\n",
        "\n",
        "    results = []\n",
        "\n",
        "    for noise_type, noise_levels in noisy_images_dict.items():\n",
        "        for noise_level, noisy_images in noise_levels.items():\n",
        "            for filter_name, filter_function in filters.items():\n",
        "                plt.figure(figsize=(20, 10))\n",
        "                for i, noisy_img in enumerate(noisy_images):\n",
        "                    noisy_array = np.array(noisy_img)\n",
        "                    original_array = np.array(original_images[i])\n",
        "\n",
        "                    for j, kernel_size in enumerate(kernel_sizes):\n",
        "                        # Apply filter with current kernel size\n",
        "                        start_time = time.time()\n",
        "                        filtered_image = filter_function(noisy_array, kernel_size)\n",
        "                        computation_time = time.time() - start_time\n",
        "\n",
        "                        # Compute metrics\n",
        "                        mse_value = mse(original_array, filtered_image)\n",
        "                        psnr_value = psnr(original_array, filtered_image)\n",
        "\n",
        "                        # Apply Canny Edge Detection on filtered image\n",
        "                        canny_edges = apply_canny_edge_detection(filtered_image)\n",
        "\n",
        "                        # Store results\n",
        "                        results.append({\n",
        "                            \"Image\": f\"Image {i+1}\",\n",
        "                            \"Noise Type\": noise_type,\n",
        "                            \"Noise Level\": noise_level,\n",
        "                            \"Filter\": filter_name,\n",
        "                            \"Kernel Size\": kernel_size,\n",
        "                            \"MSE\": mse_value,\n",
        "                            \"PSNR\": psnr_value,\n",
        "                            \"Computation Time\": computation_time,\n",
        "                        })\n",
        "\n",
        "                        # Plot filtered image\n",
        "                        plt.subplot(len(noisy_images), len(kernel_sizes) * 2, i * len(kernel_sizes) * 2 + j * 2 + 1)\n",
        "                        plt.imshow(filtered_image, cmap=\"gray\")\n",
        "                        plt.title(f\"Filtered ({filter_name}, k={kernel_size})\\nNoise Level: {noise_level}\")\n",
        "                        plt.axis(\"off\")\n",
        "\n",
        "                        # Plot Canny edges\n",
        "                        plt.subplot(len(noisy_images), len(kernel_sizes) * 2, i * len(kernel_sizes) * 2 + j * 2 + 2)\n",
        "                        plt.imshow(canny_edges, cmap=\"gray\")\n",
        "                        plt.title(f\"Canny Edges (k={kernel_size})\\nNoise Level: {noise_level}\")\n",
        "                        plt.axis(\"off\")\n",
        "\n",
        "                plt.tight_layout()\n",
        "                plt.show()\n",
        "\n",
        "    # Print results\n",
        "    print(\"\\nResults Summary:\")\n",
        "    for result in results:\n",
        "        print(\n",
        "            f\"Image: {result['Image']}, Noise Type: {result['Noise Type']}, \"\n",
        "            f\"Noise Level: {result['Noise Level']}, Filter: {result['Filter']}, \"\n",
        "            f\"Kernel Size: {result['Kernel Size']}, MSE: {result['MSE']:.2f}, \"\n",
        "            f\"PSNR: {result['PSNR']:.2f}, Computation Time: {result['Computation Time']:.4f} seconds\"\n",
        "        )\n",
        "\n",
        "    return results\n",
        "\n",
        "# Run the process\n",
        "results = process_advanced_filters_and_canny(noisy_images_dict, images)\n"
      ],
      "metadata": {
        "id": "Ie35pUG5V5gc"
      },
      "execution_count": null,
      "outputs": []
    },
    {
      "cell_type": "markdown",
      "source": [
        "Explanation of the Code:\n",
        "The code applies advanced filters (Adaptive Mean Filter, Adaptive Median Filter, and Bilateral Filter) to grayscale images corrupted by Gaussian and Salt-and-Pepper noise. Each filter is tested with kernel sizes 3, 7, and 9. Metrics such as Mean Squared Error (MSE), Peak Signal-to-Noise Ratio (PSNR), and computation time are calculated to evaluate the filters' effectiveness. Filtered images are visualized alongside their corresponding Canny Edge Detection outputs to analyze edge preservation and noise removal. The results, including performance metrics, are summarized for varying noise levels and kernel sizes."
      ],
      "metadata": {
        "id": "sBZGWjOOQPwM"
      }
    },
    {
      "cell_type": "markdown",
      "source": [
        "Discussion of the Results:\n",
        "The Adaptive Median Filter excels in handling Salt-and-Pepper noise, showing the highest PSNR values and effective edge preservation, but it is computationally expensive. The Adaptive Mean Filter smooths Gaussian noise effectively but struggles with Salt-and-Pepper noise and edges. The Bilateral Filter balances noise reduction and edge preservation for both noise types, with low computational time. Larger kernel sizes generally improve noise reduction but at the expense of detail and edge clarity, as evident in Canny outputs. The Adaptive Median Filter is preferable for Salt-and-Pepper noise, while the Bilateral Filter offers a versatile choice for mixed noise scenarios."
      ],
      "metadata": {
        "id": "E_8qqH1vQQpe"
      }
    },
    {
      "cell_type": "markdown",
      "source": [
        "The adaptive mean filter effectively reduces Gaussian noise at low and medium levels, achieving high PSNR and low MSE, but struggles with Salt-and-Pepper noise and high noise levels, leading to detail loss. Smaller kernels preserve edges and details better but fail to handle high noise, while larger kernels suppress noise at the cost of blurring edges. Canny edge detection shows diminishing edge detail with increasing kernel size, particularly in high noise conditions. Computational time significantly increases with kernel size, impacting efficiency. Overall, a trade-off exists between noise reduction, detail preservation, and computational performance."
      ],
      "metadata": {
        "id": "2h3d_RNhfcoT"
      }
    },
    {
      "cell_type": "markdown",
      "source": [
        "The analysis shows that the adaptive median filter performs effectively for low Gaussian and salt-and-pepper noise levels, maintaining high PSNR and low MSE. Smaller kernel sizes excel in preserving image details, while larger kernels suppress noise but blur edges and increase computational time. Under medium and high noise levels, the filter struggles with detail retention, and Canny edge detection deteriorates as kernel size increases. The balance between noise reduction, detail preservation, and processing efficiency depends on the noise type and kernel size."
      ],
      "metadata": {
        "id": "HkTsRAyuf7c2"
      }
    },
    {
      "cell_type": "markdown",
      "source": [
        "The bilateral filter effectively reduces noise while preserving edges, demonstrated by the performance metrics across various noise types and levels. Low kernel sizes yield higher PSNR but less noise removal, while larger kernels enhance noise reduction at the cost of edge detail. Filter time increases significantly with kernel size, highlighting computational trade-offs. The Canny edge detection performance deteriorates at high noise levels, especially with larger kernel sizes, due to loss of fine detail. Overall, bilateral filtering balances noise reduction and edge preservation effectively across different noise levels."
      ],
      "metadata": {
        "id": "IRWuFpuEgh29"
      }
    },
    {
      "cell_type": "markdown",
      "source": [
        "The comparison highlights that the Bilateral filter is computationally efficient, with the lowest filter and Canny times across all noise levels, while the Adaptive Median filter is moderately fast but has higher computational costs than Bilateral. The Adaptive Mean filter exhibits significantly longer filtering times, particularly at high noise levels. MSE increases with larger kernel sizes for all filters, with the Bilateral filter providing a balanced trade-off between noise reduction and computational efficiency. Overall, Bilateral filtering proves to be the most efficient and effective for preserving edge details while handling noise."
      ],
      "metadata": {
        "id": "v51VW_m1gttJ"
      }
    },
    {
      "cell_type": "markdown",
      "source": [
        "#**Results**\n",
        "1. MSE and PSNR Comparison\n",
        "The Mean Squared Error (MSE) and Peak Signal-to-Noise Ratio (PSNR) were evaluated for each filter at varying noise levels and kernel sizes. Results indicate that advanced filters like the Bilateral Filter generally achieve lower MSE and higher PSNR values, especially at larger kernel sizes, highlighting their superior noise removal capabilities while maintaining image quality. In contrast, simple filters exhibit higher MSE and lower PSNR, particularly for larger kernel sizes, as they tend to over-smooth images.\n",
        "\n",
        "2. Edge Preservation Comparison\n",
        "Edge maps were generated using Canny edge detection to evaluate the preservation of edge details across different filters, kernel sizes, and noise levels. Visual examples demonstrate that simple filters, such as the Box Filter, blur edge details significantly as kernel size increases. Advanced filters, like the Bilateral Filter and Adaptive Median Filter, preserve edges more effectively even at larger kernel sizes, maintaining structural integrity while reducing noise.\n",
        "\n",
        "3. Computational Time Comparison\n",
        "A computational time analysis was conducted for each filter and kernel size. The results show that advanced filters, particularly the Bilateral Filter, are computationally expensive due to their complex calculations, especially at larger kernel sizes. In contrast, simple filters like the Box Filter and Gaussian Filter are faster but may compromise on edge preservation and noise removal. A table summarizing the average processing times for different filters and kernel sizes is included for reference.\n",
        "\n",
        "![table.png](data:image/png;base64,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)\n",
        "\n",
        "4. Effect of Kernel Size:\n",
        "Increasing the kernel size improves noise removal by considering a larger neighborhood for filtering but results in smoother images with a loss of fine details and edges. For the Adaptive Median Filter, small kernels (k=3) effectively preserve edges but may leave residual noise, while larger kernels (k=9) overly smooth edges. The Bilateral Filter maintains a good balance between noise removal and edge preservation across all kernel sizes. The Adaptive Mean Filter, however, shows significant edge degradation as the kernel size increases, making it less effective for edge-sensitive applications.\n",
        "\n",
        "For simple filters, increasing the kernel size results in better noise reduction but leads to excessive blurring of edges and textures.\n",
        "For advanced filters, larger kernel sizes enhance noise reduction while still preserving edges effectively, though this comes at the cost of higher computational time.\n",
        "Overall, the choice of kernel size and filter depends on the specific requirements for noise removal, edge preservation, and processing efficiency."
      ],
      "metadata": {
        "id": "9krvF7JSnFMX"
      }
    },
    {
      "cell_type": "markdown",
      "source": [
        "##**Discussion**\n",
        "\n",
        "**Noise Removal:**  \n",
        "Simple filters like the Box Filter and Gaussian Filter generally perform well for Gaussian noise but struggle with Salt-and-Pepper noise. The Median Filter, particularly for smaller kernel sizes, demonstrates superior noise removal for Salt-and-Pepper noise. Advanced filters such as the Adaptive Median Filter exhibit better adaptability to both noise types, achieving lower MSE and higher PSNR values, especially with medium kernel sizes. The Bilateral Filter provides a balanced performance, effectively reducing Gaussian noise while maintaining edge integrity.\n",
        "\n",
        "**Edge Preservation:**  \n",
        "Edge preservation is a key area where advanced filters excel. The Adaptive Median Filter and Bilateral Filter outperform simple filters by retaining fine details and edges even as noise is removed. The Bilateral Filter is particularly effective across all kernel sizes, maintaining sharp edge maps while reducing noise. In contrast, the Box and Gaussian Filters smooth the image excessively as the kernel size increases, leading to blurred edges and loss of detail. Smaller kernel sizes preserve edges better but are less effective at noise removal.\n",
        "\n",
        "**Computational Efficiency:**  \n",
        "In terms of computational efficiency, simple filters like the Box Filter and Gaussian Filter are the fastest due to their straightforward implementation. The Adaptive Median Filter is computationally intensive, especially with larger kernel sizes, as it involves sorting operations for each pixel's neighborhood. The Bilateral Filter, while more computationally complex than simple filters, remains efficient due to its optimized implementation in OpenCV. The increase in computational time for all filters is proportional to kernel size, but the impact is most pronounced for the Adaptive Median Filter.\n",
        "\n",
        "**Kernel Size Sensitivity:**  \n",
        "The performance of all filters is sensitive to kernel size. Smaller kernels generally preserve more edge details but may leave residual noise, while larger kernels offer stronger noise reduction at the cost of edge blurring. The Bilateral Filter is less sensitive to kernel size, maintaining a good balance between noise reduction and edge preservation across the range of kernel sizes. In contrast, the Box and Gaussian Filters show significant performance degradation with larger kernels, particularly for edge preservation.\n",
        "\n",
        "**Exploring Trade-Offs:**  \n",
        "Each filter involves trade-offs between noise reduction, edge preservation, and computational cost. The Box and Gaussian Filters are computationally efficient and effective for low-noise scenarios but perform poorly in preserving edges. The Adaptive Median Filter excels at removing Salt-and-Pepper noise but at a high computational cost and with some loss of edges at larger kernel sizes. The Bilateral Filter strikes the best balance, offering effective noise reduction, strong edge preservation, and moderate computational requirements, making it suitable for applications requiring both noise removal and fine detail retention. In practical applications, selecting an appropriate kernel size and filter type depends on the specific trade-offs required for noise type, edge sensitivity, and processing constraints."
      ],
      "metadata": {
        "id": "WH798xP0nQEQ"
      }
    },
    {
      "cell_type": "markdown",
      "source": [
        "# **Conclusion**\n",
        "\n",
        "This study explored the performance of simple and advanced filters for image noise reduction, edge preservation, and computational efficiency. Simple filters, such as Box, Gaussian, and Median, proved effective for basic noise removal but showed limitations in edge preservation, particularly at larger kernel sizes. Among these, the Median Filter performed best for salt-and-pepper noise. Advanced filters, including the Adaptive Mean, Adaptive Median, and Bilateral Filters, excelled in noise reduction and edge retention, achieving lower MSE, higher PSNR, and superior visual results. However, these benefits came with increased computational costs, particularly for the Bilateral Filter.\n",
        "\n",
        "**Recommendations:**\n",
        "- Use **simple filters** (e.g., Gaussian or Median) for applications requiring low computational overhead or where slight edge blurring is acceptable.\n",
        "- Opt for **advanced filters**, such as the Bilateral Filter, for tasks that demand high-quality noise reduction and edge preservation, despite the higher computational expense.\n",
        "- For impulsive noise, the **Adaptive Median Filter** is recommended due to its adaptability and superior noise removal capabilities.\n",
        "- Carefully select kernel sizes based on the application’s priorities. Smaller kernels are suitable for edge preservation, while larger kernels are better for heavy noise reduction but may risk over-smoothing.\n"
      ],
      "metadata": {
        "id": "QnlchDUEn5hc"
      }
    }
  ]
}